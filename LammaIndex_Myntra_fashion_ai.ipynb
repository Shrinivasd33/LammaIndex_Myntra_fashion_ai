{
 "cells": [
  {
   "cell_type": "markdown",
   "metadata": {},
   "source": [
    "<span style=\"color: navy;\">\n",
    "\n",
    "# **Myntra Fashion AI Project - Using LammaIndex**\n",
    "\n",
    "Dive into the innovative world of artificial intelligence with the \"Myntra Fashion AI\" project. This initiative offers a unique opportunity for us to engage our enthusiasm for AI technology and develop a cutting-edge search system specifically tailored for the fashion industry.\n",
    "\n",
    "## Project Objective\n",
    "\n",
    "Our aim is to construct a generative search system that meticulously sifts through a vast array of fashion product descriptions on Myntra, delivering tailored recommendations based on user queries.\n",
    "\n",
    "    \n",
    "### Project Goals for Fashion Search Using LLaMA Index:\n",
    "\n",
    "The primary objective of the Fashion Search project is to develop a Generative search system that enables users to efficiently find and validate fashion items, trends, and recommendations from a vast corpus of fashion data.\n",
    "\n",
    "#### Main Goal is to provide below high level solution:\n",
    "\n",
    "- **Enhance User Experience:** Reduce the time spent searching through fashion databases by providing accurate and relevant search results.\n",
    "- **Support Trend Analysis:** Help users quickly locate historical and current fashion trends to inform their choices and designs.\n",
    "- **Improve Data Accessibility:** Ensure that valuable information buried in fashion databases is easily accessible and usable.\n",
    "- **Increase Efficiency:** Streamline the process of fashion knowledge retrieval, leading to better utilization of resources and informed decision-making in the fashion industry.\n",
    "</span>\n",
    "\n"
   ]
  },
  {
   "cell_type": "markdown",
   "metadata": {},
   "source": [
    "<span style=\"color: navy;\">\n",
    "\n",
    "### <font color = navy>**2 Implementation**\n",
    "#### <font color = navy> 2.1. RAG model\n",
    "\n",
    "![RAG](rag.png)"
   ]
  },
  {
   "cell_type": "markdown",
   "metadata": {},
   "source": [
    "<span style=\"color: navy;\">\n",
    "    \n",
    "    \n",
    "#### 2.2. Framework Used\n",
    "\n",
    "LlamaIndex (formerly known as GPT Index) is an ideal framework for the Fashion AI project using Myntra's fashion database due to its powerful capabilities in natural language processing (NLP), ease of integration, and ability to handle large datasets. <br><br>\n",
    "\n",
    "- **Contextual Understanding:** LlamaIndex models excel at maintaining context over extensive data, making them well-suited for parsing through fashion datasets where understanding the sequence of trends and items is vital for accurate retrieval and validation of fashion information. <br>\n",
    "- **Easy Integration:** LlamaIndex provides robust APIs and integration tools that facilitate seamless incorporation into existing systems, ensuring smooth implementation with Myntra’s infrastructure. <br>\n",
    "- **Semantic Search Capabilities:** Beyond simple keyword matching, LlamaIndex supports semantic search, crucial for understanding and retrieving fashion items based on their meaning and context rather than just specific terms. This results in more relevant and precise search outcomes. <br>\n",
    "- **Scalability:** Designed to scale with growing data needs, LlamaIndex can efficiently handle increasing volumes of fashion data without significant performance degradation as Myntra’s fashion database expands. <br>\n",
    "</span>\n"
   ]
  },
  {
   "cell_type": "markdown",
   "metadata": {},
   "source": [
    "<span style=\"color: navy;\">\n",
    "    \n",
    "    \n",
    "### **3 Key Design Stages**\n",
    "\n",
    "#### **3.1 Chunking and Parsing**\n",
    "- **RecursiveCharacterTextSplitter:** This tool breaks down fashion-related text into smaller, manageable segments, ensuring that each chunk adheres to a specified character limit. This approach helps in handling extensive fashion data without losing context.<br>\n",
    "- **LangchainNodeParser:** After chunking, this parser processes these segments to extract meaningful fashion insights, maintain context, and prepare the data for subsequent analysis or search operations.<br>\n",
    "\n",
    "#### **3.2 Embedding**\n",
    "- This stage involves converting fashion data into numerical vectors, which facilitates efficient similarity searches and clustering of fashion items based on their attributes and styles.<br>\n",
    "\n",
    "#### **3.3 Query Engine**\n",
    "- The query engine processes user inputs related to fashion trends, preferences, or items and retrieves relevant results from the database. It leverages advanced search algorithms to ensure accurate and timely responses.<br>\n",
    "\n",
    "#### **3.4 Retrieval**\n",
    "- In this stage, the system retrieves the most relevant fashion data from the database based on the query results. This involves ranking and filtering to provide the best matches for user queries.<br>\n",
    "\n",
    "#### **3.5 Response Formation**\n",
    "- This final stage involves compiling and formatting the retrieved fashion information into coherent responses. It ensures that the information is presented in a user-friendly manner, enhancing the overall experience for users seeking fashion insights.<br>\n",
    "</span>\n"
   ]
  },
  {
   "cell_type": "markdown",
   "metadata": {},
   "source": [
    "<span style=\"color: navy;\">\n",
    "\n",
    "    \n",
    "    \n",
    "#### Install and Import the required Libraries\n",
    "\n"
   ]
  },
  {
   "cell_type": "code",
   "execution_count": 1,
   "metadata": {
    "execution": {
     "iopub.execute_input": "2024-06-25T08:57:22.204375Z",
     "iopub.status.busy": "2024-06-25T08:57:22.203942Z",
     "iopub.status.idle": "2024-06-25T08:57:35.570509Z",
     "shell.execute_reply": "2024-06-25T08:57:35.569153Z",
     "shell.execute_reply.started": "2024-06-25T08:57:22.204340Z"
    }
   },
   "outputs": [],
   "source": [
    "# Install the OpenAI, ChromaDB, and Sentence-Transformers libraries quietly and ensure they are up to date.\n",
    "!pip install -U -q openai chromadb==0.5.3  sentence-transformers tiktoken"
   ]
  },
  {
   "cell_type": "code",
   "execution_count": 2,
   "metadata": {
    "execution": {
     "iopub.execute_input": "2024-06-25T08:57:57.015158Z",
     "iopub.status.busy": "2024-06-25T08:57:57.014816Z",
     "iopub.status.idle": "2024-06-25T08:57:57.021138Z",
     "shell.execute_reply": "2024-06-25T08:57:57.020091Z",
     "shell.execute_reply.started": "2024-06-25T08:57:57.015132Z"
    }
   },
   "outputs": [],
   "source": [
    "from pathlib import Path\n",
    "import pandas as pd\n",
    "import ast\n",
    "from tqdm import tqdm\n",
    "import re\n",
    "from IPython.display import Image, display\n",
    "from operator import itemgetter\n",
    "import json\n",
    "import tiktoken\n",
    "import urllib.request\n",
    "from PIL import Image\n",
    "from io import BytesIO\n",
    "import textwrap\n",
    "import openai\n",
    "\n",
    "import warnings\n",
    "# Suppress warnings\n",
    "warnings.filterwarnings(\"ignore\")\n"
   ]
  },
  {
   "cell_type": "markdown",
   "metadata": {
    "execution": {
     "iopub.execute_input": "2024-06-23T12:25:33.089154Z",
     "iopub.status.busy": "2024-06-23T12:25:33.088690Z",
     "iopub.status.idle": "2024-06-23T12:25:33.097385Z",
     "shell.execute_reply": "2024-06-23T12:25:33.095729Z",
     "shell.execute_reply.started": "2024-06-23T12:25:33.089119Z"
    }
   },
   "source": [
    "<span style=\"color: navy;\">\n",
    "    \n",
    "    \n",
    "#### Import the necessary libraries for data manipulation and display.\n",
    "\n"
   ]
  },
  {
   "cell_type": "code",
   "execution_count": 25,
   "metadata": {
    "execution": {
     "iopub.execute_input": "2024-06-25T08:57:57.022698Z",
     "iopub.status.busy": "2024-06-25T08:57:57.022393Z",
     "iopub.status.idle": "2024-06-25T08:57:57.113657Z",
     "shell.execute_reply": "2024-06-25T08:57:57.112589Z",
     "shell.execute_reply.started": "2024-06-25T08:57:57.022672Z"
    }
   },
   "outputs": [
    {
     "data": {
      "text/html": [
       "<div>\n",
       "<style scoped>\n",
       "    .dataframe tbody tr th:only-of-type {\n",
       "        vertical-align: middle;\n",
       "    }\n",
       "\n",
       "    .dataframe tbody tr th {\n",
       "        vertical-align: top;\n",
       "    }\n",
       "\n",
       "    .dataframe thead th {\n",
       "        text-align: right;\n",
       "    }\n",
       "</style>\n",
       "<table border=\"1\" class=\"dataframe\">\n",
       "  <thead>\n",
       "    <tr style=\"text-align: right;\">\n",
       "      <th></th>\n",
       "      <th>p_id</th>\n",
       "      <th>name</th>\n",
       "      <th>products</th>\n",
       "      <th>price</th>\n",
       "      <th>colour</th>\n",
       "      <th>brand</th>\n",
       "      <th>img</th>\n",
       "      <th>ratingCount</th>\n",
       "      <th>avg_rating</th>\n",
       "      <th>description</th>\n",
       "      <th>p_attributes</th>\n",
       "    </tr>\n",
       "  </thead>\n",
       "  <tbody>\n",
       "    <tr>\n",
       "      <th>0</th>\n",
       "      <td>18202160</td>\n",
       "      <td>POONAM DESIGNER Women Red Yoke Design Kurti with Trousers</td>\n",
       "      <td>Kurti, Trousers</td>\n",
       "      <td>2499.0</td>\n",
       "      <td>Red</td>\n",
       "      <td>POONAM DESIGNER</td>\n",
       "      <td>http://assets.myntassets.com/assets/images/18202160/2022/5/9/9677d0a5-387b-4...</td>\n",
       "      <td>7.0</td>\n",
       "      <td>3.714286</td>\n",
       "      <td>Red yoke design Kurti with Trousers &lt;br&gt; &lt;br&gt; &lt;b&gt; Kurti design:  &lt;/b&gt; &lt;ul&gt; &lt;...</td>\n",
       "      <td>{'Add-Ons': 'NA', 'Body Shape ID': '333,424', 'Body or Garment Size': 'Garme...</td>\n",
       "    </tr>\n",
       "    <tr>\n",
       "      <th>1</th>\n",
       "      <td>5389041</td>\n",
       "      <td>STREET 9 Women White &amp; Black Checked Culotte Jumpsuit</td>\n",
       "      <td>Culotte Jumpsuit</td>\n",
       "      <td>1899.0</td>\n",
       "      <td>White</td>\n",
       "      <td>STREET 9</td>\n",
       "      <td>http://assets.myntassets.com/assets/images/5389041/2018/4/20/11524219473683-...</td>\n",
       "      <td>105.0</td>\n",
       "      <td>4.171429</td>\n",
       "      <td>White and black checked culotte jumpsuit with waist tie-up detail, has a sho...</td>\n",
       "      <td>{'Body or Garment Size': 'To-Fit Denotes Body Measurements in', 'Fabric': 'C...</td>\n",
       "    </tr>\n",
       "  </tbody>\n",
       "</table>\n",
       "</div>"
      ],
      "text/plain": [
       "       p_id                                                       name  \\\n",
       "0  18202160  POONAM DESIGNER Women Red Yoke Design Kurti with Trousers   \n",
       "1   5389041      STREET 9 Women White & Black Checked Culotte Jumpsuit   \n",
       "\n",
       "           products   price colour            brand  \\\n",
       "0   Kurti, Trousers  2499.0    Red  POONAM DESIGNER   \n",
       "1  Culotte Jumpsuit  1899.0  White         STREET 9   \n",
       "\n",
       "                                                                               img  \\\n",
       "0  http://assets.myntassets.com/assets/images/18202160/2022/5/9/9677d0a5-387b-4...   \n",
       "1  http://assets.myntassets.com/assets/images/5389041/2018/4/20/11524219473683-...   \n",
       "\n",
       "   ratingCount  avg_rating  \\\n",
       "0          7.0    3.714286   \n",
       "1        105.0    4.171429   \n",
       "\n",
       "                                                                       description  \\\n",
       "0  Red yoke design Kurti with Trousers <br> <br> <b> Kurti design:  </b> <ul> <...   \n",
       "1  White and black checked culotte jumpsuit with waist tie-up detail, has a sho...   \n",
       "\n",
       "                                                                      p_attributes  \n",
       "0  {'Add-Ons': 'NA', 'Body Shape ID': '333,424', 'Body or Garment Size': 'Garme...  \n",
       "1  {'Body or Garment Size': 'To-Fit Denotes Body Measurements in', 'Fabric': 'C...  "
      ]
     },
     "execution_count": 25,
     "metadata": {},
     "output_type": "execute_result"
    }
   ],
   "source": [
    "pd.set_option('display.max_colwidth', 80)  # No limit for column width\n",
    "\n",
    "# Define the path to the Fashion Dataset CSV file.\n",
    "input_file_path = \"/Users/shrinivasd/#Upgrad/#12_GenAi_Upgrad/LammaIndex_Assingment/FashionDataFile/FashionDatasetv2_sampled.csv\"\n",
    "\n",
    "# Read the CSV file into a pandas DataFrame.\n",
    "fashion_data_all_cols = pd.read_csv(input_file_path)\n",
    "\n",
    "# Display the first few rows of the DataFrame to inspect the data.\n",
    "fashion_data_all_cols.head(2)"
   ]
  },
  {
   "cell_type": "code",
   "execution_count": 26,
   "metadata": {
    "execution": {
     "iopub.execute_input": "2024-06-25T08:58:03.712269Z",
     "iopub.status.busy": "2024-06-25T08:58:03.711317Z",
     "iopub.status.idle": "2024-06-25T08:58:03.738855Z",
     "shell.execute_reply": "2024-06-25T08:58:03.737715Z",
     "shell.execute_reply.started": "2024-06-25T08:58:03.712226Z"
    }
   },
   "outputs": [
    {
     "name": "stdout",
     "output_type": "stream",
     "text": [
      "<class 'pandas.core.frame.DataFrame'>\n",
      "RangeIndex: 2000 entries, 0 to 1999\n",
      "Data columns (total 11 columns):\n",
      " #   Column        Non-Null Count  Dtype  \n",
      "---  ------        --------------  -----  \n",
      " 0   p_id          2000 non-null   int64  \n",
      " 1   name          2000 non-null   object \n",
      " 2   products      2000 non-null   object \n",
      " 3   price         2000 non-null   float64\n",
      " 4   colour        2000 non-null   object \n",
      " 5   brand         2000 non-null   object \n",
      " 6   img           2000 non-null   object \n",
      " 7   ratingCount   2000 non-null   float64\n",
      " 8   avg_rating    2000 non-null   float64\n",
      " 9   description   2000 non-null   object \n",
      " 10  p_attributes  2000 non-null   object \n",
      "dtypes: float64(3), int64(1), object(7)\n",
      "memory usage: 172.0+ KB\n"
     ]
    }
   ],
   "source": [
    "fashion_data_all_cols.info()"
   ]
  },
  {
   "cell_type": "markdown",
   "metadata": {},
   "source": [
    "<span style=\"color: navy;\">\n",
    "\n",
    "### Observation\n",
    "\n",
    "- Our dataset contains around 2000 entries across 11 columns.\n",
    "- Its clean dataset with no null values    \n",
    "\n",
    "\n",
    "</span>\n"
   ]
  },
  {
   "cell_type": "code",
   "execution_count": 27,
   "metadata": {},
   "outputs": [
    {
     "data": {
      "text/plain": [
       "\"<ul><li>Light shade, light fade blue jeans</li><li>Slim fit, mid-rise</li><li>Clean look</li><li>Stretchable</li><li>5 pockets</li><li>Length: cropped</li></ul>Fit: Slim Fit<br>The model (height 5'8) is wearing a size 2895% Cotton 5% Lycra<br>Machine wash\""
      ]
     },
     "execution_count": 27,
     "metadata": {},
     "output_type": "execute_result"
    }
   ],
   "source": [
    "fashion_data_all_cols.description[53]"
   ]
  },
  {
   "cell_type": "markdown",
   "metadata": {},
   "source": [
    "<span style=\"color: navy;\">\n",
    "\n",
    "### Observation\n",
    "\n",
    "- A significant cleanup is required as product descriptions contains many HTML tags. \n",
    "- These HTML tags need to be removed to ensure the descriptions are clean and useful for search queries and analysis.\n",
    "- While creating embedding, we dont want the processor to process those HTML tags, which will add no value\n",
    "    \n",
    "\n",
    "</span>\n"
   ]
  },
  {
   "cell_type": "code",
   "execution_count": 28,
   "metadata": {
    "execution": {
     "iopub.execute_input": "2024-06-25T08:58:09.087716Z",
     "iopub.status.busy": "2024-06-25T08:58:09.087313Z",
     "iopub.status.idle": "2024-06-25T08:58:09.093638Z",
     "shell.execute_reply": "2024-06-25T08:58:09.092459Z",
     "shell.execute_reply.started": "2024-06-25T08:58:09.087688Z"
    }
   },
   "outputs": [],
   "source": [
    "# Function to eliminate HTML tags from a given string.\n",
    "def clean_html_tags(html_string):\n",
    "    # Define a regular expression pattern to identify HTML tags.\n",
    "    pattern = re.compile(r'<.*?>')\n",
    "\n",
    "    # Replace HTML tags with spaces using the pattern.\n",
    "    cleaned_string = re.sub(pattern, ' ', html_string)\n",
    "    \n",
    "    # Remove extra spaces: split the string into words, filter out empty elements, and rejoin into a single string.\n",
    "    cleaned_string = cleaned_string.split(' ')\n",
    "    cleaned_string = list(filter(None, cleaned_string))\n",
    "    cleaned_string = \" \".join(cleaned_string)\n",
    "    \n",
    "    # Return the cleaned string without HTML tags.\n",
    "    return cleaned_string"
   ]
  },
  {
   "cell_type": "code",
   "execution_count": 30,
   "metadata": {
    "execution": {
     "iopub.execute_input": "2024-06-25T08:58:09.517346Z",
     "iopub.status.busy": "2024-06-25T08:58:09.516619Z",
     "iopub.status.idle": "2024-06-25T08:58:09.523907Z",
     "shell.execute_reply": "2024-06-25T08:58:09.522809Z",
     "shell.execute_reply.started": "2024-06-25T08:58:09.517310Z"
    }
   },
   "outputs": [
    {
     "data": {
      "text/plain": [
       "\"Light shade, light fade blue jeans Slim fit, mid-rise Clean look Stretchable 5 pockets Length: cropped Fit: Slim Fit The model (height 5'8) is wearing a size 2895% Cotton 5% Lycra Machine wash\""
      ]
     },
     "execution_count": 30,
     "metadata": {},
     "output_type": "execute_result"
    }
   ],
   "source": [
    "# Validate if function worked\n",
    "clean_html_tags(fashion_data_all_cols.description[53])"
   ]
  },
  {
   "cell_type": "markdown",
   "metadata": {},
   "source": [
    "<span style=\"color: navy;\">\n",
    "\n",
    "### Observation\n",
    "\n",
    "- These HTML tags were removed and now the descriptions are clean and useful for search queries and analysis.\n",
    "\n",
    "</span>"
   ]
  },
  {
   "cell_type": "code",
   "execution_count": 31,
   "metadata": {},
   "outputs": [
    {
     "data": {
      "text/html": [
       "<div>\n",
       "<style scoped>\n",
       "    .dataframe tbody tr th:only-of-type {\n",
       "        vertical-align: middle;\n",
       "    }\n",
       "\n",
       "    .dataframe tbody tr th {\n",
       "        vertical-align: top;\n",
       "    }\n",
       "\n",
       "    .dataframe thead th {\n",
       "        text-align: right;\n",
       "    }\n",
       "</style>\n",
       "<table border=\"1\" class=\"dataframe\">\n",
       "  <thead>\n",
       "    <tr style=\"text-align: right;\">\n",
       "      <th></th>\n",
       "      <th>p_id</th>\n",
       "      <th>name</th>\n",
       "      <th>products</th>\n",
       "      <th>price</th>\n",
       "      <th>colour</th>\n",
       "      <th>brand</th>\n",
       "      <th>img</th>\n",
       "      <th>ratingCount</th>\n",
       "      <th>avg_rating</th>\n",
       "      <th>description</th>\n",
       "      <th>p_attributes</th>\n",
       "      <th>cleaned_description</th>\n",
       "    </tr>\n",
       "  </thead>\n",
       "  <tbody>\n",
       "    <tr>\n",
       "      <th>0</th>\n",
       "      <td>18202160</td>\n",
       "      <td>POONAM DESIGNER Women Red Yoke Design Kurti with Trousers</td>\n",
       "      <td>Kurti, Trousers</td>\n",
       "      <td>2499.0</td>\n",
       "      <td>Red</td>\n",
       "      <td>POONAM DESIGNER</td>\n",
       "      <td>http://assets.myntassets.com/assets/images/18202160/2022/5/9/9677d0a5-387b-4...</td>\n",
       "      <td>7.0</td>\n",
       "      <td>3.714286</td>\n",
       "      <td>Red yoke design Kurti with Trousers &lt;br&gt; &lt;br&gt; &lt;b&gt; Kurti design:  &lt;/b&gt; &lt;ul&gt; &lt;...</td>\n",
       "      <td>{'Add-Ons': 'NA', 'Body Shape ID': '333,424', 'Body or Garment Size': 'Garme...</td>\n",
       "      <td>Red yoke design Kurti with Trousers Kurti design: Yoke design Straight shape...</td>\n",
       "    </tr>\n",
       "    <tr>\n",
       "      <th>1</th>\n",
       "      <td>5389041</td>\n",
       "      <td>STREET 9 Women White &amp; Black Checked Culotte Jumpsuit</td>\n",
       "      <td>Culotte Jumpsuit</td>\n",
       "      <td>1899.0</td>\n",
       "      <td>White</td>\n",
       "      <td>STREET 9</td>\n",
       "      <td>http://assets.myntassets.com/assets/images/5389041/2018/4/20/11524219473683-...</td>\n",
       "      <td>105.0</td>\n",
       "      <td>4.171429</td>\n",
       "      <td>White and black checked culotte jumpsuit with waist tie-up detail, has a sho...</td>\n",
       "      <td>{'Body or Garment Size': 'To-Fit Denotes Body Measurements in', 'Fabric': 'C...</td>\n",
       "      <td>White and black checked culotte jumpsuit with waist tie-up detail, has a sho...</td>\n",
       "    </tr>\n",
       "    <tr>\n",
       "      <th>2</th>\n",
       "      <td>13975624</td>\n",
       "      <td>Vishudh Women Off-White Checked Kurta with Palazzo and Dupatta</td>\n",
       "      <td>Kurta, Palazzo, Dupatta</td>\n",
       "      <td>2549.0</td>\n",
       "      <td>Off White</td>\n",
       "      <td>Vishudh</td>\n",
       "      <td>http://assets.myntassets.com/assets/images/productimage/2021/3/26/b329d1f5-b...</td>\n",
       "      <td>14.0</td>\n",
       "      <td>2.857143</td>\n",
       "      <td>&lt;p&gt;Length 88 width 40(inches)&lt;/p&gt;&lt;p&gt;Cotton Machine wash&lt;/p&gt;The model (height...</td>\n",
       "      <td>{'Add-Ons': 'NA', 'Body Shape ID': '443,333,324,424', 'Body or Garment Size'...</td>\n",
       "      <td>Length 88 width 40(inches) Cotton Machine wash The model (height 5'8\") is we...</td>\n",
       "    </tr>\n",
       "  </tbody>\n",
       "</table>\n",
       "</div>"
      ],
      "text/plain": [
       "       p_id                                                            name  \\\n",
       "0  18202160       POONAM DESIGNER Women Red Yoke Design Kurti with Trousers   \n",
       "1   5389041           STREET 9 Women White & Black Checked Culotte Jumpsuit   \n",
       "2  13975624  Vishudh Women Off-White Checked Kurta with Palazzo and Dupatta   \n",
       "\n",
       "                  products   price     colour            brand  \\\n",
       "0          Kurti, Trousers  2499.0        Red  POONAM DESIGNER   \n",
       "1         Culotte Jumpsuit  1899.0      White         STREET 9   \n",
       "2  Kurta, Palazzo, Dupatta  2549.0  Off White          Vishudh   \n",
       "\n",
       "                                                                               img  \\\n",
       "0  http://assets.myntassets.com/assets/images/18202160/2022/5/9/9677d0a5-387b-4...   \n",
       "1  http://assets.myntassets.com/assets/images/5389041/2018/4/20/11524219473683-...   \n",
       "2  http://assets.myntassets.com/assets/images/productimage/2021/3/26/b329d1f5-b...   \n",
       "\n",
       "   ratingCount  avg_rating  \\\n",
       "0          7.0    3.714286   \n",
       "1        105.0    4.171429   \n",
       "2         14.0    2.857143   \n",
       "\n",
       "                                                                       description  \\\n",
       "0  Red yoke design Kurti with Trousers <br> <br> <b> Kurti design:  </b> <ul> <...   \n",
       "1  White and black checked culotte jumpsuit with waist tie-up detail, has a sho...   \n",
       "2  <p>Length 88 width 40(inches)</p><p>Cotton Machine wash</p>The model (height...   \n",
       "\n",
       "                                                                      p_attributes  \\\n",
       "0  {'Add-Ons': 'NA', 'Body Shape ID': '333,424', 'Body or Garment Size': 'Garme...   \n",
       "1  {'Body or Garment Size': 'To-Fit Denotes Body Measurements in', 'Fabric': 'C...   \n",
       "2  {'Add-Ons': 'NA', 'Body Shape ID': '443,333,324,424', 'Body or Garment Size'...   \n",
       "\n",
       "                                                               cleaned_description  \n",
       "0  Red yoke design Kurti with Trousers Kurti design: Yoke design Straight shape...  \n",
       "1  White and black checked culotte jumpsuit with waist tie-up detail, has a sho...  \n",
       "2  Length 88 width 40(inches) Cotton Machine wash The model (height 5'8\") is we...  "
      ]
     },
     "execution_count": 31,
     "metadata": {},
     "output_type": "execute_result"
    }
   ],
   "source": [
    "fashion_data_all_cols.loc[:, 'cleaned_description'] = fashion_data_all_cols['description'].apply(lambda x: clean_html_tags(x))\n",
    "\n",
    "# Display the first few rows of the modified DataFrame.\n",
    "fashion_data_all_cols.head(3)"
   ]
  },
  {
   "cell_type": "markdown",
   "metadata": {},
   "source": [
    "<span style=\"color: navy;\">\n",
    "\n",
    "### Observation\n",
    "\n",
    "- These HTML tags were removed in entire DF and now the descriptions are clean and useful for search queries and analysis.\n",
    "\n",
    "</span>\n"
   ]
  },
  {
   "cell_type": "code",
   "execution_count": 32,
   "metadata": {},
   "outputs": [
    {
     "name": "stdout",
     "output_type": "stream",
     "text": [
      "<class 'pandas.core.frame.DataFrame'>\n",
      "RangeIndex: 2000 entries, 0 to 1999\n",
      "Data columns (total 12 columns):\n",
      " #   Column               Non-Null Count  Dtype  \n",
      "---  ------               --------------  -----  \n",
      " 0   p_id                 2000 non-null   int64  \n",
      " 1   name                 2000 non-null   object \n",
      " 2   products             2000 non-null   object \n",
      " 3   price                2000 non-null   float64\n",
      " 4   colour               2000 non-null   object \n",
      " 5   brand                2000 non-null   object \n",
      " 6   img                  2000 non-null   object \n",
      " 7   ratingCount          2000 non-null   float64\n",
      " 8   avg_rating           2000 non-null   float64\n",
      " 9   description          2000 non-null   object \n",
      " 10  p_attributes         2000 non-null   object \n",
      " 11  cleaned_description  2000 non-null   object \n",
      "dtypes: float64(3), int64(1), object(8)\n",
      "memory usage: 187.6+ KB\n"
     ]
    }
   ],
   "source": [
    "fashion_data_all_cols.info()"
   ]
  },
  {
   "cell_type": "markdown",
   "metadata": {},
   "source": [
    "<span style=\"color: navy;\">\n",
    "\n",
    "### Set OpenAI API Key"
   ]
  },
  {
   "cell_type": "code",
   "execution_count": 33,
   "metadata": {},
   "outputs": [],
   "source": [
    "with open('/Users/shrinivasd/#Upgrad/#12_GenAi_Upgrad/OpenAI_API_Key.txt', 'r') as file:\n",
    "    api_key = file.read().strip()\n",
    "openai.api_key = api_key"
   ]
  },
  {
   "cell_type": "markdown",
   "metadata": {},
   "source": [
    "<span style=\"color: navy;\">\n",
    "\n",
    "### Consolidate key info into single col"
   ]
  },
  {
   "cell_type": "code",
   "execution_count": 34,
   "metadata": {
    "execution": {
     "iopub.execute_input": "2024-06-25T08:58:13.598052Z",
     "iopub.status.busy": "2024-06-25T08:58:13.597707Z",
     "iopub.status.idle": "2024-06-25T08:58:13.603991Z",
     "shell.execute_reply": "2024-06-25T08:58:13.602909Z",
     "shell.execute_reply.started": "2024-06-25T08:58:13.598023Z"
    }
   },
   "outputs": [
    {
     "name": "stdout",
     "output_type": "stream",
     "text": [
      "Name : Indo Era Women Pink Ethnic Motifs Embroidered Kurta with Trousers & Dupatta\n",
      "    Products : Kurta, Trousers, Dupatta\n",
      "    Price : 5999.0\n",
      "    Color : Pink\n",
      "    Brand : Indo Era \n",
      "    Rating : 4.22 \n",
      "    Description : Pink embroidered Kurta with Trousers with dupatta Kurta design: Ethnic motifs embroidered Straight shape Regular style Round neck, three-quarter regular sleeves Calf length with straight hem Cotton blend machine weave fabric Trousers design: Solid Trousers Partially elasticated waistband Slip-on closure 1 pockets Dupatta Lenght : 2.3m, Dupatta Width : 85 cm Size worn by the model: S Chest: 32\" Waist: 28\" Hips: 33\" Height: 5'7\" Cotton Blend Organza&nbsp; Machine Wash\n",
      "    Attributes : {'Add-Ons': 'NA', 'Body Shape ID': '333,424', 'Body or Garment Size': 'Garment Measurements in', 'Bottom Closure': 'Slip-On', 'Bottom Fabric': 'Cotton Blend', 'Bottom Pattern': 'Solid', 'Bottom Type': 'Trousers', 'Character': 'NA', 'Dupatta': 'With Dupatta', 'Dupatta Border': 'Taping', 'Dupatta Fabric': 'Organza', 'Dupatta Pattern': 'Embroidered', 'Main Trend': 'NA', 'Neck': 'Round Neck', 'Number of Pockets': '1', 'Occasion': 'Festive', 'Ornamentation': 'NA', 'Pattern Coverage': 'Large', 'Print or Pattern Type': 'Ethnic Motifs', 'Sleeve Length': 'Three-Quarter Sleeves', 'Sleeve Styling': 'Regular Sleeves', 'Slit Detail': 'Side Slits', 'Stitch': 'Ready to Wear', 'Sustainable': 'Regular', 'Technique': 'NA', 'Top Design Styling': 'Regular', 'Top Fabric': 'Cotton Blend', 'Top Hemline': 'Straight', 'Top Length': 'Calf Length', 'Top Pattern': 'Embroidered', 'Top Shape': 'Straight', 'Top Type': 'Kurta', 'Waistband': 'Partially Elasticated', 'Wash Care': 'Machine Wash', 'Weave Pattern': 'Regular', 'Weave Type': 'Machine Weave', 'Wedding': 'Bride & Wedding Squad'}\n",
      "    ImageLink : http://assets.myntassets.com/assets/images/18165350/2022/6/1/75b8bd49-918a-4e97-a46b-b65384f064761654078529049-Indo-Era-Pink-Floral-Embroidered-Straight-Kurta-Trouser-With-1.jpg\n"
     ]
    }
   ],
   "source": [
    "def generate_product_assortment(product):\n",
    "\n",
    "    # Format the product details into a readable string, excluding non-significant fields.\n",
    "    product_assortment_details = f\"\"\"\n",
    "    Name : {product['name']}\n",
    "    Products : {product['products']}\n",
    "    Price : {product['price']}\n",
    "    Color : {product['colour']}\n",
    "    Brand : {product['brand']} \n",
    "    Rating : {f\"{product['avg_rating']:.2f}\"} \n",
    "    Description : {product['cleaned_description']}\n",
    "    Attributes : {product['p_attributes']}\n",
    "    ImageLink : {product['img']}\n",
    "    \"\"\"\n",
    "   \n",
    "    return product_assortment_details.strip()\n",
    "\n",
    "# An example product_assortment\n",
    "print(generate_product_assortment(fashion_data_all_cols.iloc[5]))"
   ]
  },
  {
   "cell_type": "code",
   "execution_count": 35,
   "metadata": {},
   "outputs": [
    {
     "data": {
      "text/html": [
       "<div>\n",
       "<style scoped>\n",
       "    .dataframe tbody tr th:only-of-type {\n",
       "        vertical-align: middle;\n",
       "    }\n",
       "\n",
       "    .dataframe tbody tr th {\n",
       "        vertical-align: top;\n",
       "    }\n",
       "\n",
       "    .dataframe thead th {\n",
       "        text-align: right;\n",
       "    }\n",
       "</style>\n",
       "<table border=\"1\" class=\"dataframe\">\n",
       "  <thead>\n",
       "    <tr style=\"text-align: right;\">\n",
       "      <th></th>\n",
       "      <th>p_id</th>\n",
       "      <th>name</th>\n",
       "      <th>products</th>\n",
       "      <th>price</th>\n",
       "      <th>colour</th>\n",
       "      <th>brand</th>\n",
       "      <th>img</th>\n",
       "      <th>ratingCount</th>\n",
       "      <th>avg_rating</th>\n",
       "      <th>description</th>\n",
       "      <th>p_attributes</th>\n",
       "      <th>cleaned_description</th>\n",
       "      <th>product_assortment</th>\n",
       "      <th>product_assortment_len</th>\n",
       "    </tr>\n",
       "  </thead>\n",
       "  <tbody>\n",
       "    <tr>\n",
       "      <th>0</th>\n",
       "      <td>18202160</td>\n",
       "      <td>POONAM DESIGNER Women Red Yoke Design Kurti with Trousers</td>\n",
       "      <td>Kurti, Trousers</td>\n",
       "      <td>2499.0</td>\n",
       "      <td>Red</td>\n",
       "      <td>POONAM DESIGNER</td>\n",
       "      <td>http://assets.myntassets.com/assets/images/18202160/2022/5/9/9677d0a5-387b-4...</td>\n",
       "      <td>7.0</td>\n",
       "      <td>3.714286</td>\n",
       "      <td>Red yoke design Kurti with Trousers &lt;br&gt; &lt;br&gt; &lt;b&gt; Kurti design:  &lt;/b&gt; &lt;ul&gt; &lt;...</td>\n",
       "      <td>{'Add-Ons': 'NA', 'Body Shape ID': '333,424', 'Body or Garment Size': 'Garme...</td>\n",
       "      <td>Red yoke design Kurti with Trousers Kurti design: Yoke design Straight shape...</td>\n",
       "      <td>Name : POONAM DESIGNER Women Red Yoke Design Kurti with Trousers\\n    Produc...</td>\n",
       "      <td>1721</td>\n",
       "    </tr>\n",
       "    <tr>\n",
       "      <th>1</th>\n",
       "      <td>5389041</td>\n",
       "      <td>STREET 9 Women White &amp; Black Checked Culotte Jumpsuit</td>\n",
       "      <td>Culotte Jumpsuit</td>\n",
       "      <td>1899.0</td>\n",
       "      <td>White</td>\n",
       "      <td>STREET 9</td>\n",
       "      <td>http://assets.myntassets.com/assets/images/5389041/2018/4/20/11524219473683-...</td>\n",
       "      <td>105.0</td>\n",
       "      <td>4.171429</td>\n",
       "      <td>White and black checked culotte jumpsuit with waist tie-up detail, has a sho...</td>\n",
       "      <td>{'Body or Garment Size': 'To-Fit Denotes Body Measurements in', 'Fabric': 'C...</td>\n",
       "      <td>White and black checked culotte jumpsuit with waist tie-up detail, has a sho...</td>\n",
       "      <td>Name : STREET 9 Women White &amp; Black Checked Culotte Jumpsuit\\n    Products :...</td>\n",
       "      <td>802</td>\n",
       "    </tr>\n",
       "  </tbody>\n",
       "</table>\n",
       "</div>"
      ],
      "text/plain": [
       "       p_id                                                       name  \\\n",
       "0  18202160  POONAM DESIGNER Women Red Yoke Design Kurti with Trousers   \n",
       "1   5389041      STREET 9 Women White & Black Checked Culotte Jumpsuit   \n",
       "\n",
       "           products   price colour            brand  \\\n",
       "0   Kurti, Trousers  2499.0    Red  POONAM DESIGNER   \n",
       "1  Culotte Jumpsuit  1899.0  White         STREET 9   \n",
       "\n",
       "                                                                               img  \\\n",
       "0  http://assets.myntassets.com/assets/images/18202160/2022/5/9/9677d0a5-387b-4...   \n",
       "1  http://assets.myntassets.com/assets/images/5389041/2018/4/20/11524219473683-...   \n",
       "\n",
       "   ratingCount  avg_rating  \\\n",
       "0          7.0    3.714286   \n",
       "1        105.0    4.171429   \n",
       "\n",
       "                                                                       description  \\\n",
       "0  Red yoke design Kurti with Trousers <br> <br> <b> Kurti design:  </b> <ul> <...   \n",
       "1  White and black checked culotte jumpsuit with waist tie-up detail, has a sho...   \n",
       "\n",
       "                                                                      p_attributes  \\\n",
       "0  {'Add-Ons': 'NA', 'Body Shape ID': '333,424', 'Body or Garment Size': 'Garme...   \n",
       "1  {'Body or Garment Size': 'To-Fit Denotes Body Measurements in', 'Fabric': 'C...   \n",
       "\n",
       "                                                               cleaned_description  \\\n",
       "0  Red yoke design Kurti with Trousers Kurti design: Yoke design Straight shape...   \n",
       "1  White and black checked culotte jumpsuit with waist tie-up detail, has a sho...   \n",
       "\n",
       "                                                                product_assortment  \\\n",
       "0  Name : POONAM DESIGNER Women Red Yoke Design Kurti with Trousers\\n    Produc...   \n",
       "1  Name : STREET 9 Women White & Black Checked Culotte Jumpsuit\\n    Products :...   \n",
       "\n",
       "   product_assortment_len  \n",
       "0                    1721  \n",
       "1                     802  "
      ]
     },
     "execution_count": 35,
     "metadata": {},
     "output_type": "execute_result"
    }
   ],
   "source": [
    "# Apply the generate_product_assortment function to each row and set 'product_assortment' column\n",
    "fashion_data_all_cols.loc[:, 'product_assortment'] = fashion_data_all_cols.apply(generate_product_assortment, axis=1)\n",
    "\n",
    "# Compute the length of 'product_assortment' and set 'product_assortment_len' column\n",
    "fashion_data_all_cols.loc[:, 'product_assortment_len'] = fashion_data_all_cols['product_assortment'].apply(len)\n",
    "fashion_data_all_cols.head(2)"
   ]
  },
  {
   "cell_type": "markdown",
   "metadata": {},
   "source": [
    "<span style=\"color: navy;\">\n",
    "\n",
    "### Observation\n",
    "\n",
    "- Comprehensive Formatting: generate_product_assortment function compiles essential product details such as name, category, price, color, brand, rating, description, and attributes into a single formatted string.\n",
    "- Exclusion of Non-Significant Fields: Fields deemed non-essential for search relevance, such as 'ratingCount' and 'p_id', are excluded from the formatted string.\n",
    "- Enhanced Readability: The formatted string enhances readability by clearly presenting product information, which is crucial for generating meaningful search results and recommendations.\n",
    "- generate_product_assortment has been sucessfully applied at DF level and product_assortment and product_assortment_len cols created\n",
    "   \n",
    "\n",
    "\n",
    "</span>\n"
   ]
  },
  {
   "cell_type": "code",
   "execution_count": 36,
   "metadata": {},
   "outputs": [
    {
     "data": {
      "text/html": [
       "<div>\n",
       "<style scoped>\n",
       "    .dataframe tbody tr th:only-of-type {\n",
       "        vertical-align: middle;\n",
       "    }\n",
       "\n",
       "    .dataframe tbody tr th {\n",
       "        vertical-align: top;\n",
       "    }\n",
       "\n",
       "    .dataframe thead th {\n",
       "        text-align: right;\n",
       "    }\n",
       "</style>\n",
       "<table border=\"1\" class=\"dataframe\">\n",
       "  <thead>\n",
       "    <tr style=\"text-align: right;\">\n",
       "      <th></th>\n",
       "      <th>product_assortment</th>\n",
       "    </tr>\n",
       "  </thead>\n",
       "  <tbody>\n",
       "    <tr>\n",
       "      <th>0</th>\n",
       "      <td>Name : POONAM DESIGNER Women Red Yoke Design Kurti with Trousers\\n    Products : Kurti, Trousers\\n    Price : 2499.0\\n    Color : Red\\n    Brand : POONAM DESIGNER \\n    Rating : 3.71 \\n    Description : Red yoke design Kurti with Trousers Kurti design: Yoke design Straight shape Regular style Round neck, three-quarter regular sleeves Calf length with straight hem Silk blend machine weave fabric Trousers design: Solid Trousers Partially elasticated waistband Slip-on closure Wash Care :- Dry Clean The model (height 5'8) is wearing a size S\\n    Attributes : {'Add-Ons': 'NA', 'Body Shape ID': '333,424', 'Body or Garment Size': 'Garment Measurements in', 'Bottom Closure': 'Slip-On', 'Bottom Fabric': 'Silk Blend', 'Bottom Pattern': 'Solid', 'Bottom Type': 'Trousers', 'Character': 'NA', 'Dupatta': 'NA', 'Dupatta Border': 'NA', 'Dupatta Fabric': 'NA', 'Dupatta Pattern': 'NA', 'Main Trend': 'NA', 'Neck': 'Round Neck', 'Number of Pockets': 'NA', 'Occasion': 'Festive', 'Ornamentation': 'NA', 'Pattern Coverage': 'Yoke or Border', 'Sleeve Length': 'Three-Quarter Sleeves', 'Sleeve Styling': 'Regular Sleeves', 'Slit Detail': 'Side Slits', 'Stitch': 'Ready to Wear', 'Sustainable': 'Regular', 'Technique': 'NA', 'Top Design Styling': 'Regular', 'Top Fabric': 'Silk Blend', 'Top Hemline': 'Straight', 'Top Length': 'Calf Length', 'Top Pattern': 'Yoke Design', 'Top Shape': 'Straight', 'Top Type': 'Kurti', 'Waistband': 'Partially Elasticated', 'Wash Care': 'Dry Clean', 'Weave Pattern': 'Regular', 'Weave Type': 'Machine Weave', 'Wedding': 'NA'}\\n    ImageLink : http://assets.myntassets.com/assets/images/18202160/2022/5/9/9677d0a5-387b-40f3-80b4-1701239b3ac81652097227106POONAMDESIGNERWomenRedYokeDesignKurtiwithTrousers1.jpg</td>\n",
       "    </tr>\n",
       "    <tr>\n",
       "      <th>1</th>\n",
       "      <td>Name : STREET 9 Women White &amp; Black Checked Culotte Jumpsuit\\n    Products : Culotte Jumpsuit\\n    Price : 1899.0\\n    Color : White\\n    Brand : STREET 9 \\n    Rating : 4.17 \\n    Description : White and black checked culotte jumpsuit with waist tie-up detail, has a shoulder straps, sleevelessCotton Machine-washThe model (height 5'8'') is wearing a size S\\n    Attributes : {'Body or Garment Size': 'To-Fit Denotes Body Measurements in', 'Fabric': 'Cotton', 'Neck': 'Shoulder Straps', 'Number of Pockets': '2', 'Pattern': 'Checked', 'Sleeve Length': 'Sleeveless', 'Surface Styling': 'NA', 'Type': 'Culotte Jumpsuit', 'Wash Care': 'Machine Wash'}\\n    ImageLink : http://assets.myntassets.com/assets/images/5389041/2018/4/20/11524219473683-STREET-9-White--Black-Checked-Culotte-Jumpsuit-511524219473492-1.jpg</td>\n",
       "    </tr>\n",
       "  </tbody>\n",
       "</table>\n",
       "</div>"
      ],
      "text/plain": [
       "                                                                                                                                                                                                                                                                                                                                                                                                                                                                                                                                                                                                                                                                                                                                                                                                                                                                                                                                                                                                                                                                                                                                                                                                                                                                                                                                                                                                                                                                                                                                                                                                                                                                                                                                                                                  product_assortment\n",
       "0  Name : POONAM DESIGNER Women Red Yoke Design Kurti with Trousers\\n    Products : Kurti, Trousers\\n    Price : 2499.0\\n    Color : Red\\n    Brand : POONAM DESIGNER \\n    Rating : 3.71 \\n    Description : Red yoke design Kurti with Trousers Kurti design: Yoke design Straight shape Regular style Round neck, three-quarter regular sleeves Calf length with straight hem Silk blend machine weave fabric Trousers design: Solid Trousers Partially elasticated waistband Slip-on closure Wash Care :- Dry Clean The model (height 5'8) is wearing a size S\\n    Attributes : {'Add-Ons': 'NA', 'Body Shape ID': '333,424', 'Body or Garment Size': 'Garment Measurements in', 'Bottom Closure': 'Slip-On', 'Bottom Fabric': 'Silk Blend', 'Bottom Pattern': 'Solid', 'Bottom Type': 'Trousers', 'Character': 'NA', 'Dupatta': 'NA', 'Dupatta Border': 'NA', 'Dupatta Fabric': 'NA', 'Dupatta Pattern': 'NA', 'Main Trend': 'NA', 'Neck': 'Round Neck', 'Number of Pockets': 'NA', 'Occasion': 'Festive', 'Ornamentation': 'NA', 'Pattern Coverage': 'Yoke or Border', 'Sleeve Length': 'Three-Quarter Sleeves', 'Sleeve Styling': 'Regular Sleeves', 'Slit Detail': 'Side Slits', 'Stitch': 'Ready to Wear', 'Sustainable': 'Regular', 'Technique': 'NA', 'Top Design Styling': 'Regular', 'Top Fabric': 'Silk Blend', 'Top Hemline': 'Straight', 'Top Length': 'Calf Length', 'Top Pattern': 'Yoke Design', 'Top Shape': 'Straight', 'Top Type': 'Kurti', 'Waistband': 'Partially Elasticated', 'Wash Care': 'Dry Clean', 'Weave Pattern': 'Regular', 'Weave Type': 'Machine Weave', 'Wedding': 'NA'}\\n    ImageLink : http://assets.myntassets.com/assets/images/18202160/2022/5/9/9677d0a5-387b-40f3-80b4-1701239b3ac81652097227106POONAMDESIGNERWomenRedYokeDesignKurtiwithTrousers1.jpg\n",
       "1                                                                                                                                                                                                                                                                                                                                                                                                                                                                                                                                                                                                                                                                                                                                                                                                                                                                                                                                                         Name : STREET 9 Women White & Black Checked Culotte Jumpsuit\\n    Products : Culotte Jumpsuit\\n    Price : 1899.0\\n    Color : White\\n    Brand : STREET 9 \\n    Rating : 4.17 \\n    Description : White and black checked culotte jumpsuit with waist tie-up detail, has a shoulder straps, sleevelessCotton Machine-washThe model (height 5'8'') is wearing a size S\\n    Attributes : {'Body or Garment Size': 'To-Fit Denotes Body Measurements in', 'Fabric': 'Cotton', 'Neck': 'Shoulder Straps', 'Number of Pockets': '2', 'Pattern': 'Checked', 'Sleeve Length': 'Sleeveless', 'Surface Styling': 'NA', 'Type': 'Culotte Jumpsuit', 'Wash Care': 'Machine Wash'}\\n    ImageLink : http://assets.myntassets.com/assets/images/5389041/2018/4/20/11524219473683-STREET-9-White--Black-Checked-Culotte-Jumpsuit-511524219473492-1.jpg"
      ]
     },
     "execution_count": 36,
     "metadata": {},
     "output_type": "execute_result"
    }
   ],
   "source": [
    "pd.set_option('display.max_colwidth', None)  # No limit for column width\n",
    "fashion_data = fashion_data_all_cols[['product_assortment']]\n",
    "fashion_data.head(2)"
   ]
  },
  {
   "cell_type": "markdown",
   "metadata": {},
   "source": [
    "<span style=\"color: navy;\">\n",
    "\n",
    "### Observation\n",
    "\n",
    "- We just need single column which we will feed for embedding and storing in Chroma DB\n",
    "- Create new DF with single col\n",
    "   \n",
    "\n",
    "\n",
    "</span>\n"
   ]
  },
  {
   "cell_type": "code",
   "execution_count": 37,
   "metadata": {},
   "outputs": [
    {
     "data": {
      "text/plain": [
       "(2000, 1)"
      ]
     },
     "metadata": {},
     "output_type": "display_data"
    }
   ],
   "source": [
    "fashion_path = '/Users/shrinivasd/#Upgrad/#12_GenAi_Upgrad/LammaIndex_Assingment/FashionDataFile/out/'\n",
    "fashion_data.to_csv(fashion_path+\"fashion_file.csv\", index=False)\n",
    "\n",
    "display(fashion_data.shape)"
   ]
  },
  {
   "cell_type": "code",
   "execution_count": 38,
   "metadata": {},
   "outputs": [
    {
     "name": "stdout",
     "output_type": "stream",
     "text": [
      "<class 'pandas.core.frame.DataFrame'>\n",
      "RangeIndex: 2000 entries, 0 to 1999\n",
      "Data columns (total 1 columns):\n",
      " #   Column              Non-Null Count  Dtype \n",
      "---  ------              --------------  ----- \n",
      " 0   product_assortment  2000 non-null   object\n",
      "dtypes: object(1)\n",
      "memory usage: 15.8+ KB\n"
     ]
    }
   ],
   "source": [
    "fashion_data.info()"
   ]
  },
  {
   "cell_type": "code",
   "execution_count": 39,
   "metadata": {},
   "outputs": [],
   "source": [
    "from IPython.display import display, HTML\n",
    "from llama_index.core import VectorStoreIndex\n",
    "from llama_index.core import VectorStoreIndex, get_response_synthesizer\n",
    "from llama_index.core.retrievers import VectorIndexRetriever\n",
    "from llama_index.core.query_engine import RetrieverQueryEngine\n",
    "from llama_index.core.postprocessor import SimilarityPostprocessor"
   ]
  },
  {
   "cell_type": "markdown",
   "metadata": {},
   "source": [
    "<span style=\"color: navy;\">\n",
    "\n",
    "## **Part 1 - Document ingestion to Vector DB**\n",
    "\n",
    "### Load document from folder\n",
    "Since the data is sourced from CSV files, the `CSVReader` is utilized for loading. By setting `concat_rows = False`, each row in the CSV is treated as an individual document. This means that each row of fashion information is processed and analyzed separately as a distinct document.\n",
    "\n",
    "\n"
   ]
  },
  {
   "cell_type": "code",
   "execution_count": 40,
   "metadata": {},
   "outputs": [
    {
     "data": {
      "text/plain": [
       "Document(id_='c335387c-4271-4ff4-a0ec-86e53351acdc', embedding=None, metadata={'filename': 'fashion_file.csv', 'extension': '.csv', 'file_path': '/Users/shrinivasd/#Upgrad/#12_GenAi_Upgrad/LammaIndex_Assingment/FashionDataFile/out/fashion_file.csv', 'file_name': 'fashion_file.csv', 'file_type': 'text/csv', 'file_size': 2563113, 'creation_date': '2024-07-25', 'last_modified_date': '2024-07-25'}, excluded_embed_metadata_keys=['file_name', 'file_type', 'file_size', 'creation_date', 'last_modified_date', 'last_accessed_date'], excluded_llm_metadata_keys=['file_name', 'file_type', 'file_size', 'creation_date', 'last_modified_date', 'last_accessed_date'], relationships={}, text=\"Name : KALINI Women Blue Printed Pure Cotton Kurta with Trousers & With Dupatta\\n    Products : Kurta, Trousers, Dupatta\\n    Price : 3999.0\\n    Color : Blue\\n    Brand : KALINI \\n    Rating : 3.79 \\n    Description : Blue printed Kurta with Trousers with dupatta Kurta design: Woven design printed A-line shape Regular style Keyhole neck, three-quarter regular sleeves Above knee length with flared hem Pure cotton machine weave fabric Trousers design: Printed Trousers Elasticated waistband Zip closure comes with the dupatta Dupatta Length :- 2 mtr The model (height 5'8) is wearing a size SPure cotton Machine wash as per tag\\n    Attributes : {'Add-Ons': 'NA', 'Body Shape ID': '333,424', 'Body or Garment Size': 'To-Fit Denotes Body Measurements in', 'Bottom Closure': 'Zip', 'Bottom Fabric': 'Pure Cotton', 'Bottom Pattern': 'Printed', 'Bottom Type': 'Trousers', 'Character': 'NA', 'Dupatta': 'With Dupatta', 'Dupatta Border': 'Printed', 'Dupatta Fabric': 'Pure Cotton', 'Dupatta Pattern': 'Solid', 'Main Trend': 'NA', 'Neck': 'Keyhole Neck', 'Number of Pockets': 'NA', 'Occasion': 'Daily', 'Ornamentation': 'NA', 'Pattern Coverage': 'Large', 'Print or Pattern Type': 'Woven Design', 'Sleeve Length': 'Three-Quarter Sleeves', 'Sleeve Styling': 'Regular Sleeves', 'Slit Detail': 'Side Slits', 'Stitch': 'Ready to Wear', 'Sustainable': 'Regular', 'Technique': 'NA', 'Top Design Styling': 'Regular', 'Top Fabric': 'Pure Cotton', 'Top Hemline': 'Flared', 'Top Length': 'Above Knee', 'Top Pattern': 'Printed', 'Top Shape': 'A-Line', 'Top Type': 'Kurta', 'Waistband': 'Elasticated', 'Wash Care': 'Machine Wash', 'Weave Pattern': 'Regular', 'Weave Type': 'Machine Weave', 'Wedding': 'NA'}\\n    ImageLink : http://assets.myntassets.com/assets/images/17171716/2022/2/16/02f160d4-f972-4cf6-bf9f-a8559c0527421645006799948KALINIKurtaPantandDupattaSet6.jpg\", mimetype='text/plain', start_char_idx=None, end_char_idx=None, text_template='{metadata_str}\\n\\n{content}', metadata_template='{key}: {value}', metadata_seperator='\\n')"
      ]
     },
     "execution_count": 40,
     "metadata": {},
     "output_type": "execute_result"
    }
   ],
   "source": [
    "from llama_index.readers.file import (CSVReader)\n",
    "from llama_index.core.node_parser import SimpleNodeParser, TextSplitter\n",
    "from llama_index.core import SimpleDirectoryReader\n",
    "\n",
    "parser = CSVReader(concat_rows=False)\n",
    "file_extractor = {\".csv\":parser}\n",
    "\n",
    "documents = SimpleDirectoryReader(input_dir = fashion_path, \n",
    "                                  file_extractor=file_extractor).load_data()\n",
    "\n",
    "documents[20]"
   ]
  },
  {
   "cell_type": "code",
   "execution_count": 41,
   "metadata": {},
   "outputs": [
    {
     "data": {
      "text/plain": [
       "2001"
      ]
     },
     "execution_count": 41,
     "metadata": {},
     "output_type": "execute_result"
    }
   ],
   "source": [
    "len(documents)"
   ]
  },
  {
   "cell_type": "markdown",
   "metadata": {},
   "source": [
    "<span style=\"color: navy;\">\n",
    "\n",
    "### Document parsing and chunking\n",
    " \n",
    "- **RecursiveCharacterTextSplitter:** This tool recursively divides text into smaller segments, ensuring each chunk stays within a specified character limit. This approach helps manage large volumes of fashion data while preserving contextual integrity.\n",
    "\n",
    "- **LangchainNodeParser:** Following chunking, this parser processes the segmented data to extract relevant information, maintain context, and prepare the data for subsequent analysis or search operations.\n",
    "    "
   ]
  },
  {
   "cell_type": "code",
   "execution_count": 43,
   "metadata": {},
   "outputs": [
    {
     "data": {
      "text/plain": [
       "LangchainNodeParser(include_metadata=True, include_prev_next_rel=True, callback_manager=<llama_index.core.callbacks.base.CallbackManager object at 0x12ffcbb90>, id_func=<function default_id_func at 0x12ec7d120>)"
      ]
     },
     "execution_count": 43,
     "metadata": {},
     "output_type": "execute_result"
    }
   ],
   "source": [
    "from langchain.text_splitter import RecursiveCharacterTextSplitter\n",
    "from llama_index.core.node_parser import LangchainNodeParser\n",
    "\n",
    "parser = LangchainNodeParser(RecursiveCharacterTextSplitter())\n",
    "nodes = parser.get_nodes_from_documents(documents)\n",
    "\n",
    "parser"
   ]
  },
  {
   "cell_type": "markdown",
   "metadata": {},
   "source": [
    "<span style=\"color: navy;\">\n",
    "\n",
    "### Generate and Store Embeddings \n",
    "    \n",
    "- In this step, we will utilize the **text-embedding-ada-002** model framework to embed the product descriptions. The resulting embeddings will be stored in a ChromaDB collection, leveraging its efficient handling of vector data for quick retrieval based on similarity.\n",
    "\n",
    "\n",
    "</span>\n"
   ]
  },
  {
   "cell_type": "code",
   "execution_count": 45,
   "metadata": {},
   "outputs": [
    {
     "data": {
      "text/plain": [
       "<chromadb.utils.embedding_functions.OpenAIEmbeddingFunction at 0x12eac0d50>"
      ]
     },
     "execution_count": 45,
     "metadata": {},
     "output_type": "execute_result"
    }
   ],
   "source": [
    "from chromadb.utils.embedding_functions import OpenAIEmbeddingFunction\n",
    "embedding_model = \"text-embedding-ada-002\"\n",
    "embedding_function = OpenAIEmbeddingFunction(api_key=openai.api_key, model_name=embedding_model)\n",
    "embedding_function"
   ]
  },
  {
   "cell_type": "markdown",
   "metadata": {},
   "source": [
    "<span style=\"color: navy;\">\n",
    "\n",
    "\n",
    "### Chroma Vector Store\n",
    "\n",
    "While the `VectorStoreIndex` provides fundamental indexing features, the `ChromaVectorStore` significantly enhances performance, scalability, and advanced search capabilities. For a Fashion AI project, these improvements lead to faster, more precise, and more efficient retrieval of relevant fashion data. As a result, `ChromaVectorStore` becomes an essential component for developing a robust and high-performing search system within the fashion domain.\n"
   ]
  },
  {
   "cell_type": "code",
   "execution_count": 50,
   "metadata": {},
   "outputs": [],
   "source": [
    "import chromadb\n",
    "from llama_index.vector_stores.chroma import ChromaVectorStore\n",
    "from llama_index.core import StorageContext\n",
    "import os\n",
    "\n",
    "chromadb_path = os.path.join(fashion_path, 'chromadb/')\n",
    "\n",
    "\n",
    "chromadb_client = chromadb.PersistentClient(path=chromadb_path)\n",
    "fashion_collection = chromadb_client.get_or_create_collection(name='RAG_on_fashion', embedding_function=embedding_function)\n",
    "vector_store = ChromaVectorStore(chroma_collection=fashion_collection, distance_metric=\"cosine\")\n",
    "storage_context = StorageContext.from_defaults(vector_store=vector_store)"
   ]
  },
  {
   "cell_type": "markdown",
   "metadata": {},
   "source": [
    "<span style=\"color: navy;\">\n",
    "\n",
    "### Vector Index\n",
    "\n",
    "The `VectorStoreIndex` is a key component that manages:\n",
    "\n",
    "- **Embedding Generation:** Creates embeddings for both fashion documents and user queries.\n",
    "- **Efficient Storage:** Stores document vectors in a way that optimizes retrieval performance.\n",
    "- **Similarity Search:** Identifies relevant fashion items or documents based on vector similarity.\n",
    "- **Filtering and Ranking:** Refines and prioritizes search results to ensure the most relevant fashion data is presented.\n"
   ]
  },
  {
   "cell_type": "code",
   "execution_count": 51,
   "metadata": {},
   "outputs": [
    {
     "data": {
      "text/plain": [
       "<llama_index.core.indices.vector_store.base.VectorStoreIndex at 0x133558fd0>"
      ]
     },
     "execution_count": 51,
     "metadata": {},
     "output_type": "execute_result"
    }
   ],
   "source": [
    "# build index\n",
    "index = VectorStoreIndex(nodes, storage_context=storage_context)\n",
    "index"
   ]
  },
  {
   "cell_type": "markdown",
   "metadata": {},
   "source": [
    "<span style=\"color: navy;\">\n",
    "\n",
    "    \n",
    "## **Part 2 - Chunks retrieval from Vector DB for query**\n",
    "\n",
    "### Node retriever"
   ]
  },
  {
   "cell_type": "code",
   "execution_count": 52,
   "metadata": {},
   "outputs": [
    {
     "data": {
      "text/plain": [
       "<llama_index.core.indices.vector_store.retrievers.retriever.VectorIndexRetriever at 0x1385b6110>"
      ]
     },
     "execution_count": 52,
     "metadata": {},
     "output_type": "execute_result"
    }
   ],
   "source": [
    "from llama_index.core.retrievers import VectorIndexRetriever\n",
    "\n",
    "retriever = VectorIndexRetriever(\n",
    "    index=index,\n",
    "    similarity_top_k=10\n",
    ")\n",
    "retriever"
   ]
  },
  {
   "cell_type": "markdown",
   "metadata": {},
   "source": [
    "<span style=\"color: navy;\">\n",
    "\n",
    "### Query Engine with configuration"
   ]
  },
  {
   "cell_type": "code",
   "execution_count": 55,
   "metadata": {},
   "outputs": [
    {
     "data": {
      "text/plain": [
       "<llama_index.core.query_engine.retriever_query_engine.RetrieverQueryEngine at 0x1357afc10>"
      ]
     },
     "execution_count": 55,
     "metadata": {},
     "output_type": "execute_result"
    }
   ],
   "source": [
    "from llama_index.core.query_engine import RetrieverQueryEngine\n",
    "from llama_index.core.postprocessor import SimilarityPostprocessor\n",
    "\n",
    "query_engine = RetrieverQueryEngine(\n",
    "    retriever=retriever,\n",
    "    node_postprocessors=[SimilarityPostprocessor(similarity_cutoff=0.75)]\n",
    ")\n",
    "query_engine"
   ]
  },
  {
   "cell_type": "markdown",
   "metadata": {},
   "source": [
    "<span style=\"color: navy;\">\n",
    "\n",
    "## **Part 3 - Response generation by LLM based on chunks retrieved from Vector DB**\n",
    "### LLM Model"
   ]
  },
  {
   "cell_type": "code",
   "execution_count": null,
   "metadata": {},
   "outputs": [],
   "source": [
    "from llama_index.llms.openai import OpenAI\n",
    "llm = OpenAI(model=\"gpt-3.5-turbo\", temperature=0.4)"
   ]
  },
  {
   "cell_type": "markdown",
   "metadata": {},
   "source": [
    "<span style=\"color: navy;\">\n",
    "\n",
    "## Prompt Template"
   ]
  },
  {
   "cell_type": "code",
   "execution_count": 74,
   "metadata": {},
   "outputs": [],
   "source": [
    "from llama_index.core import ChatPromptTemplate\n",
    "\n",
    "# Define the QA prompt template for the fashion assistant\n",
    "qa_prompt_str = (\"\"\"You are a knowledgeable fashion assistant who can provide detailed information about \n",
    "                    fashion products based on user queries.\n",
    "                    You have a question asked by the user in {query_str} and you have some search results \n",
    "                    from a corpus of fashion product data in the dataframe {context_str}. \n",
    "                    These search results include information about various fashion products that \n",
    "                    may be relevant to the user query.\n",
    "\n",
    "                    Use the information in {context_str} to answer the query {query_str}. Frame a detailed \n",
    "                    and informative response and provide relevant product information such as \n",
    "                    product name, price, description, and image link.\n",
    "\n",
    "                    Follow the guidelines below when performing the task.\n",
    "                    1. Provide relevant and accurate product details if available.\n",
    "                    2. Analyze the information carefully and provide a comprehensive answer to the query.\n",
    "                    3. If the product details include prices, ensure that they are presented in INR. Provide result within user budget in case query contains price info\n",
    "                    4. Include product images links at end of each recommended product.\n",
    "                    5. If you can't provide the complete answer, include any additional information that might \n",
    "                       help the user make a better decision.\n",
    "                    6. Provide clear and concise product information with relevant details.\n",
    "                    7. Give first row as \"Top recommend:\", and for rest \"Similar product:\" title\n",
    "                    8. Try to suggest top 3 products where-ever applicable \n",
    "                    \n",
    "\n",
    "                    The generated response should address the user query directly and concisely, avoiding \n",
    "                    unnecessary information. \n",
    "                    If you determine that the query is not relevant to the provided documents, \n",
    "                    state that the query is irrelevant.\n",
    "                    Ensure the final response is well-formatted and easy to read, with all relevant \n",
    "                    details included.\n",
    "\n",
    "                    Answer -\n",
    "                    {{Provide the detailed answer natural language format without any formatting to the \n",
    "                    question asked, ONLY \n",
    "                    including \n",
    "                    Name , \n",
    "                    Products, \n",
    "                    Price, \n",
    "                    Color , \n",
    "                    Rating, \n",
    "                    Description, \n",
    "                    just few key info from Attributes, \n",
    "                    wash care\n",
    "                    and \n",
    "                    ImageLink. \n",
    "                    \n",
    "                    Image link MUST always be with ImageLink: and just link. Image link is in ImageLink}}\n",
    "                    The answer should look like natural english language, just using values from above columns.\n",
    "\n",
    "                    \"\"\")\n",
    "\n",
    "# Define the chat messages for the QA prompt template\n",
    "fashion_text_msgs = [\n",
    "    (\n",
    "        \"system\",\n",
    "        \"You are a knowledgeable fashion assistant who can provide detailed information about fashion products based on user queries.\",\n",
    "    ),\n",
    "    (\"user\", qa_prompt_str),\n",
    "]\n",
    "\n",
    "# Create the ChatPromptTemplate for the QA prompt\n",
    "text_qa_template = ChatPromptTemplate.from_messages(fashion_text_msgs)\n",
    "\n",
    "# ------------------------------------------------------------------------------------------------------------\n",
    "\n",
    "# Define the refine prompt template for additional context\n",
    "refine_prompt_str = (\n",
    "    \"\"\"\n",
    "    We have the opportunity to refine the original answer \n",
    "    (only if needed) with some more context below.\n",
    "    ------------\n",
    "    {context_msg}\n",
    "    ------------\n",
    "    Given the new context, refine the original answer to better \n",
    "    address the question: {query_str}. \n",
    "    If the context isn't useful, output the original answer again.\n",
    "    Original Answer: {existing_answer}    \n",
    "    \n",
    "    \"\"\"\n",
    "\n",
    ")\n",
    "\n",
    "# Define the chat messages for the refine prompt template\n",
    "chat_refine_msgs = [\n",
    "    (\n",
    "        \"system\",\n",
    "        \"Always answer the question based on the received information, refining as necessary.\",\n",
    "    ),\n",
    "    (\"user\", refine_prompt_str),\n",
    "]\n",
    "\n",
    "# Create the ChatPromptTemplate for the refine prompt\n",
    "refine_template = ChatPromptTemplate.from_messages(chat_refine_msgs)\n"
   ]
  },
  {
   "cell_type": "markdown",
   "metadata": {},
   "source": [
    "<span style=\"color: navy;\">\n",
    "\n",
    "## Generate Response"
   ]
  },
  {
   "cell_type": "code",
   "execution_count": 75,
   "metadata": {},
   "outputs": [],
   "source": [
    "def query_response(user_input):\n",
    "    global llm, text_qa_template, refine_template\n",
    "\n",
    "    final_response = index.as_query_engine(\n",
    "        text_qa_template=text_qa_template,\n",
    "        refine_template = refine_template,\n",
    "        embedding_function=embedding_function,\n",
    "        llm=llm,\n",
    "    ).query(user_input)\n",
    "    return final_response"
   ]
  },
  {
   "cell_type": "markdown",
   "metadata": {},
   "source": [
    "<span style=\"color: navy;\">\n",
    "\n",
    "## Generate images and display"
   ]
  },
  {
   "cell_type": "code",
   "execution_count": 76,
   "metadata": {},
   "outputs": [],
   "source": [
    "import re\n",
    "import pandas as pd\n",
    "from IPython.display import display, HTML\n",
    "\n",
    "# Function to parse the response into a DataFrame\n",
    "def parse_response_to_df(response_text):\n",
    "    \"\"\"\n",
    "    Parse the response text into a DataFrame.\n",
    "    \"\"\"\n",
    "    data = []\n",
    "\n",
    "    if not response_text:\n",
    "        return pd.DataFrame(columns=[\"Title\", \"Product Info\", \"Image\"])\n",
    "\n",
    "    # Split the response into sections\n",
    "    sections = re.split(r'\\n\\n(?=Top recommend:|Similar product:)', response_text.strip())\n",
    "\n",
    "    # Process each section\n",
    "    for section in sections:\n",
    "        if section.startswith(\"Top recommend:\"):\n",
    "            title = \"Top recommend\"\n",
    "        elif section.startswith(\"Similar product:\"):\n",
    "            title = \"Similar product\"\n",
    "        else:\n",
    "            continue\n",
    "\n",
    "        # Extract product info and image link\n",
    "        product_info_match = re.search(r'(Top recommend:|Similar product:)(.*?)(?=ImageLink:)', section, re.DOTALL)\n",
    "        image_match = re.search(r'ImageLink: (http[^\\s]+)', section)\n",
    "\n",
    "        if product_info_match:\n",
    "            product_info = product_info_match.group(2).strip().replace('\\n', ' ')\n",
    "        else:\n",
    "            product_info = \"Information not available\"\n",
    "\n",
    "        if image_match:\n",
    "            image_link = image_match.group(1).strip()\n",
    "        else:\n",
    "            image_link = \"No image available\"\n",
    "\n",
    "        data.append([title, product_info, image_link])\n",
    "\n",
    "    # Create a DataFrame\n",
    "    op_df = pd.DataFrame(data, columns=[\"Title\", \"Product Info\", \"Image\"])\n",
    "    return op_df\n",
    "\n",
    "# Function to display the DataFrame with images\n",
    "def display_df_with_images(df):\n",
    "    \"\"\"\n",
    "    Display the DataFrame with text and images.\n",
    "    \"\"\"\n",
    "    for index, row in df.iterrows():\n",
    "        print(f\"{row['Title']}:\\n{row['Product Info']}\\n\")\n",
    "        if row[\"Image\"] != \"No image available\":\n",
    "            display(HTML(f'<img src=\"{row[\"Image\"]}\" width=\"275px\" />'))\n",
    "        else:\n",
    "            print(\"Image not available\")\n",
    "        print(\"\\n\")\n",
    "        \n",
    "# Main clubbed        \n",
    "def process_user_query(user_input):\n",
    "    response = query_response(user_input)\n",
    "    fmt_response = response.response\n",
    "    \n",
    "    # Parse the formatted response and display it\n",
    "    op_df = parse_response_to_df(fmt_response)\n",
    "    display_df_with_images(op_df)        "
   ]
  },
  {
   "cell_type": "markdown",
   "metadata": {},
   "source": [
    "<span style=\"color: navy;\">\n",
    "\n",
    "\n",
    "## Validate user queries\n",
    "\n",
    "##### Query 1 : \"Suggest me Floral Printed dress \""
   ]
  },
  {
   "cell_type": "code",
   "execution_count": 119,
   "metadata": {
    "scrolled": true
   },
   "outputs": [
    {
     "name": "stdout",
     "output_type": "stream",
     "text": [
      "Top recommend:\n",
      "Name: Ahalyaa Women Peach-Coloured Floral Printed Regular Sequinned Kurta with Palazzos & With Dupatta Products: Kurta, Palazzos, Dupatta Price: INR 6550.0 Color: Peach Rating: 3.62 Description: Embrace ethnicity with grace by wearing this modish kurta set. This set comprises of an appealing printed kurta and well-fitting printed palazzos to add to your overall style. Trend Alert: Symbols of freshness and beauty, romantic florals in vibrant hues and prints have been a mainstay in fashion for decades. Wash Care: Hand Wash\n",
      "\n"
     ]
    },
    {
     "data": {
      "text/html": [
       "<img src=\"http://assets.myntassets.com/assets/images/14951328/2022/2/16/db9f4f84-2374-4736-845d-b34668a542481645010267366-Ahalyaa-Women-Peach-Coloured-Floral-Printed-Regular-Sequinne-1.jpg\" width=\"275px\" />"
      ],
      "text/plain": [
       "<IPython.core.display.HTML object>"
      ]
     },
     "metadata": {},
     "output_type": "display_data"
    },
    {
     "name": "stdout",
     "output_type": "stream",
     "text": [
      "\n",
      "\n",
      "Similar product:\n",
      "Name: Berrylush Classic White Polyester Romantic Florals Kurta Products: Kurta Price: INR 1699.0 Color: White Rating: 4.20 Description: Opt for this trendy kurta and be creative with how you want to style it. The eye-catching straight hemline and calf-length will add to your ethnic look. Trend Alert: Symbols of freshness and beauty, romantic florals in vibrant hues and prints have been a mainstay in fashion for decades. Wash Care: Machine Wash\n",
      "\n"
     ]
    },
    {
     "data": {
      "text/html": [
       "<img src=\"http://assets.myntassets.com/assets/images/16752706/2022/1/25/60f49ae6-ed16-46c0-bbb7-9e597d1ef0051643085914124-Berrylush-Women-White-Floral-Print-Neck-Tie-Up-Detail-Kurta--1.jpg\" width=\"275px\" />"
      ],
      "text/plain": [
       "<IPython.core.display.HTML object>"
      ]
     },
     "metadata": {},
     "output_type": "display_data"
    },
    {
     "name": "stdout",
     "output_type": "stream",
     "text": [
      "\n",
      "\n"
     ]
    }
   ],
   "source": [
    "process_user_query(\"Suggest me Floral Printed dress \")"
   ]
  },
  {
   "cell_type": "markdown",
   "metadata": {},
   "source": [
    "<span style=\"color: navy;\">\n",
    "\n",
    "### Test result Observation    \n",
    "    \n",
    "-  RAG with LammaIndex recommended right product\n",
    "-  Generative search has expressed same info in natural langauge format\n",
    "   "
   ]
  },
  {
   "cell_type": "markdown",
   "metadata": {},
   "source": [
    "<span style=\"color: navy;\">\n",
    "\n",
    "\n",
    "## Validate user queries\n",
    "\n",
    "##### Query 2 : \"Suggest me Peach coloured Shorts.\""
   ]
  },
  {
   "cell_type": "code",
   "execution_count": 106,
   "metadata": {},
   "outputs": [
    {
     "name": "stdout",
     "output_type": "stream",
     "text": [
      "Top recommend:\n",
      "Name: MANGO Women Peach-Coloured Solid Regular Shorts Products: Shorts Price: INR 2390.0 Color: Peach Rating: 3.58 Description: Peach-coloured solid mid-rise regular shorts, has 2 pockets, slip-on closure. 63% Viscose rayon, 36% Polyester and 1% Elastane. Machine wash. Regular Fit. Wash Care: Machine Wash\n",
      "\n"
     ]
    },
    {
     "data": {
      "text/html": [
       "<img src=\"http://assets.myntassets.com/assets/images/14340718/2021/10/28/2b131459-2c31-441c-bd12-7edddbc4fe0f1635420140985-MANGO-Women-Peach-Coloured-Solid-Regular-Shorts-499163542014-1.jpg\" width=\"275px\" />"
      ],
      "text/plain": [
       "<IPython.core.display.HTML object>"
      ]
     },
     "metadata": {},
     "output_type": "display_data"
    },
    {
     "name": "stdout",
     "output_type": "stream",
     "text": [
      "\n",
      "\n",
      "Similar product:\n",
      "Name: HRX By Hrithik Roshan Racket sports Women Optic White & Peach-Coloured Colourblock Shorts Products: Shorts Price: INR 1499.0 Color: White Rating: 4.59 Description: Enjoy a full range of motion for the game with the HRX Women's Racket Sport Shorts. Rapid Dry Technology wicks sweat & makes the fabric dry fast. Anti-microbial technology prevents odor-causing microbes. Anti static technology. Mid rise waist gives secure fit. Colour: Optic White & Peach-coloured. Machine Wash. Regular fit. Wash Care: Machine Wash\n",
      "\n"
     ]
    },
    {
     "data": {
      "text/html": [
       "<img src=\"http://assets.myntassets.com/assets/images/15337438/2022/6/7/b9e3a8a4-dd74-4560-a328-0d119b61d2671654598078400-HRX-By-Hrithik-Roshan-Racket-sports-Women-Optic-White--Peach-2.jpg\" width=\"275px\" />"
      ],
      "text/plain": [
       "<IPython.core.display.HTML object>"
      ]
     },
     "metadata": {},
     "output_type": "display_data"
    },
    {
     "name": "stdout",
     "output_type": "stream",
     "text": [
      "\n",
      "\n"
     ]
    }
   ],
   "source": [
    "process_user_query(\"Suggest me Peach coloured Shorts.\")"
   ]
  },
  {
   "cell_type": "markdown",
   "metadata": {},
   "source": [
    "<span style=\"color: navy;\">\n",
    "\n",
    "### Test result Observation    \n",
    "    \n",
    "-  RAG with LammaIndex recommended right product\n",
    "-  Generative search has expressed same info in natural langauge format\n",
    "   "
   ]
  },
  {
   "cell_type": "markdown",
   "metadata": {},
   "source": [
    "<span style=\"color: navy;\">\n",
    "\n",
    "\n",
    "## Validate user queries\n",
    "\n",
    "##### Query 3 : \"Suggest me top rated kurta with Palazzos from Anubhutee brand\""
   ]
  },
  {
   "cell_type": "code",
   "execution_count": 102,
   "metadata": {},
   "outputs": [
    {
     "name": "stdout",
     "output_type": "stream",
     "text": [
      "Top recommend:\n",
      "Name: Anubhutee Women Navy Blue & Off-White Bandhani Print Kurta with Palazzos Products: Kurta, Palazzos Price: INR 2749.0 Color: Navy Blue Rating: 4.29 Description: Navy blue and off-white bandhani print kurta with palazzos. Navy blue and off-white bandhani print straight calf length kurta, has a round neck, three-quarter sleeves, straight hem, side slits. Off-white checked palazzos, has elasticated waistband with drawstring closure. Hand-wash.\n",
      "\n"
     ]
    },
    {
     "data": {
      "text/html": [
       "<img src=\"http://assets.myntassets.com/assets/images/11531500/2020/2/27/7db411c9-57d5-47a2-97a6-ff070ff1f6761582785330466-Anubhutee-Women-Kurta-Sets-4191582785328560-1.jpg\" width=\"275px\" />"
      ],
      "text/plain": [
       "<IPython.core.display.HTML object>"
      ]
     },
     "metadata": {},
     "output_type": "display_data"
    },
    {
     "name": "stdout",
     "output_type": "stream",
     "text": [
      "\n",
      "\n",
      "Similar product:\n",
      "Name: Anubhutee Women Maroon Embroidered Kurta with Palazzos & Dupatta Products: Kurta, Palazzos, Dupatta Price: INR 4349.0 Color: Maroon Rating: 3.97 Description: Maroon embroidered Kurta with Palazzos with dupatta. Kurta design: Floral embroidered straight shape, regular style, round neck, three-quarter regular sleeves, thread work detail, calf length with straight hem. Palazzos design: Printed palazzos, partially elasticated waistband, hook and eye closure. Hand wash.\n",
      "\n"
     ]
    },
    {
     "data": {
      "text/html": [
       "<img src=\"http://assets.myntassets.com/assets/images/15904812/2021/10/23/6fd40c43-a89e-406d-80fc-d54e83c708e91634972304226AnubhuteeWomenMaroonLayeredKurtiwithTrousersWithDupatta1.jpg\" width=\"275px\" />"
      ],
      "text/plain": [
       "<IPython.core.display.HTML object>"
      ]
     },
     "metadata": {},
     "output_type": "display_data"
    },
    {
     "name": "stdout",
     "output_type": "stream",
     "text": [
      "\n",
      "\n"
     ]
    }
   ],
   "source": [
    "process_user_query(\"Suggest me top rated kurta with Palazzos from Anubhutee brand\")"
   ]
  },
  {
   "cell_type": "markdown",
   "metadata": {},
   "source": [
    "<span style=\"color: navy;\">\n",
    "\n",
    "### Test result Observation    \n",
    "    \n",
    "-  RAG with LammaIndex recommended right product\n",
    "-  Generative search has expressed same info in natural langauge format\n",
    "   "
   ]
  },
  {
   "cell_type": "markdown",
   "metadata": {},
   "source": [
    "<span style=\"color: navy;\">\n",
    "\n",
    "\n",
    "## Validate user queries\n",
    "\n",
    "##### Query 4 : \"Suggest me red kurta\""
   ]
  },
  {
   "cell_type": "code",
   "execution_count": 91,
   "metadata": {},
   "outputs": [
    {
     "name": "stdout",
     "output_type": "stream",
     "text": [
      "Top recommend:\n",
      "Name: Inddus Women Red Ethnic Motifs Embroidered Regular Sequinned Kurta with Sharara & With Dupatta Products: Kurta, Sharara, Dupatta Price: INR 7499.0 Color: Red Rating: 4.24 Description: Red embroidered Kurta with Sharara with dupatta. Ethnic motifs embroidered design with sequinned detail. Knee length with scalloped hem. Net machine weave fabric. Attributes: Sleeve Length - Short Sleeves, Neck - Round Neck, Top Length - Knee Length, Bottom Type - Sharara, Dupatta - With Dupatta, Occasion - Festive Wash Care: Dry Clean\n",
      "\n"
     ]
    },
    {
     "data": {
      "text/html": [
       "<img src=\"http://assets.myntassets.com/assets/images/13427698/2021/1/27/69b9867d-970c-4a51-8c92-16e06c593aaa1611741109643-Women-Red-Net-Embroidered-Kurta-Set-with-Net-Dupatta-6521611-1.jpg\" width=\"275px\" />"
      ],
      "text/plain": [
       "<IPython.core.display.HTML object>"
      ]
     },
     "metadata": {},
     "output_type": "display_data"
    },
    {
     "name": "stdout",
     "output_type": "stream",
     "text": [
      "\n",
      "\n",
      "Similar product:\n",
      "Name: Anubhutee Women Red Ethnic Motifs Printed Empire Pure Cotton Kurta with Trousers & With Dupatta Products: Kurta, Trousers, Dupatta Price: INR 5899.0 Color: Red Rating: 4.25 Description: Red printed Kurta with Trousers with dupatta. Ethnic motifs printed design with empire style. Calf length with flared hem. Pure cotton machine weave fabric. Attributes: Sleeve Length - Three-Quarter Sleeves, Neck - Round Neck, Top Length - Calf Length, Bottom Type - Trousers, Dupatta - With Dupatta, Occasion - Festive Wash Care: Hand Wash\n",
      "\n"
     ]
    },
    {
     "data": {
      "text/html": [
       "<img src=\"http://assets.myntassets.com/assets/images/16331364/2021/12/2/bf54fb91-2a99-4d6d-8a76-93d1bdc7c26b1638432668545KurtaSets1.jpg\" width=\"275px\" />"
      ],
      "text/plain": [
       "<IPython.core.display.HTML object>"
      ]
     },
     "metadata": {},
     "output_type": "display_data"
    },
    {
     "name": "stdout",
     "output_type": "stream",
     "text": [
      "\n",
      "\n"
     ]
    }
   ],
   "source": [
    "process_user_query(\"Suggest me red kurta\")"
   ]
  },
  {
   "cell_type": "markdown",
   "metadata": {},
   "source": [
    "<span style=\"color: navy;\">\n",
    "\n",
    "### Test result Observation    \n",
    "    \n",
    "-  RAG with LammaIndex recommended right product\n",
    "-  Generative search has expressed same info in natural langauge format\n",
    "   "
   ]
  },
  {
   "cell_type": "markdown",
   "metadata": {},
   "source": [
    "<span style=\"color: navy;\">\n",
    "\n",
    "\n",
    "## Validate user queries\n",
    "\n",
    "##### Query 5 : \"Suggest me Stretchable Jeans within 2000 rupess\""
   ]
  },
  {
   "cell_type": "code",
   "execution_count": 94,
   "metadata": {
    "scrolled": true
   },
   "outputs": [
    {
     "name": "stdout",
     "output_type": "stream",
     "text": [
      "Top recommend:\n",
      "Name: Tokyo Talkies Women Blue Super Skinny Fit Mid-Rise Clean Look Stretchable Jeans Products: Jeans Price: 1899.0 INR Color: Blue Rating: 3.91 Description: Blue light wash 5-pocket mid-rise jeans, clean look with no fade, button and zip closure, waistband with belt loops. Super Skinny Fit Stretchable. 98% Cotton 2% Lycra. Machine-wash. Attributes: Super Skinny Fit, Stretchable, Mid-Rise, 5 pockets, Button and Zip closure Wash Care: Machine Wash\n",
      "\n"
     ]
    },
    {
     "data": {
      "text/html": [
       "<img src=\"http://assets.myntassets.com/assets/images/productimage/2018/12/12/9afe9582-5684-4dea-8383-d42771e606f71544633397595-1.jpg\" width=\"275px\" />"
      ],
      "text/plain": [
       "<IPython.core.display.HTML object>"
      ]
     },
     "metadata": {},
     "output_type": "display_data"
    },
    {
     "name": "stdout",
     "output_type": "stream",
     "text": [
      "\n",
      "\n",
      "Similar product:\n",
      "Name: Levis Women Navy Blue Super Skinny Fit Stretchable Jeans 710 Products: Jeans Price: 1999.0 INR Color: Navy Blue Rating: 4.12 Description: Dark shade, no fade navy blue jeans. Super skinny fit, mid-rise, clean look, stretchable. 83% Cotton, 16% Polyester, 1% Elastane. Machine wash. Attributes: Super Skinny Fit, Stretchable, Mid-Rise, 5 pockets, Button and Zip closure Wash Care: Machine Wash\n",
      "\n"
     ]
    },
    {
     "data": {
      "text/html": [
       "<img src=\"http://assets.myntassets.com/assets/images/15022668/2021/10/18/c0cb10db-7e5e-4b79-83c1-a91bed957c911634553605607-Levis-Women-Blue-Super-Skinny-Fit-Stretchable-Jeans-80516345-1.jpg\" width=\"275px\" />"
      ],
      "text/plain": [
       "<IPython.core.display.HTML object>"
      ]
     },
     "metadata": {},
     "output_type": "display_data"
    },
    {
     "name": "stdout",
     "output_type": "stream",
     "text": [
      "\n",
      "\n"
     ]
    }
   ],
   "source": [
    "process_user_query(\"Suggest me Stretchable Jeans within 2000 rupess\")"
   ]
  },
  {
   "cell_type": "markdown",
   "metadata": {},
   "source": [
    "<span style=\"color: navy;\">\n",
    "\n",
    "### Test result Observation    \n",
    "    \n",
    "-  RAG with LammaIndex recommended right product\n",
    "-  Generative search has expressed same info in natural langauge format\n",
    "   "
   ]
  },
  {
   "cell_type": "markdown",
   "metadata": {},
   "source": [
    "<span style=\"color: navy;\">\n",
    "\n",
    "\n",
    "## Validate user queries\n",
    "\n",
    "##### Query 6 : \"Suggest me Jumpsuit in Navy Blue Color with rating aboue 4\""
   ]
  },
  {
   "cell_type": "code",
   "execution_count": 100,
   "metadata": {
    "scrolled": true
   },
   "outputs": [
    {
     "name": "stdout",
     "output_type": "stream",
     "text": [
      "Top recommend:\n",
      "Name: Mast & Harbour Women Navy Blue Solid Cinched Waist Jumpsuit Products: Jumpsuit Price: INR 2199.0 Color: Navy Blue Rating: 4.39 Description: A blend of style and allure, this jumpsuit is ideal for your next outing. Well-crafted with a shirt collar and short sleeves, this jumpsuit lends a playful look. Navy blue shade with a classic solid pattern. Polyester material, machine washable. Trend Alert: A garment with a cinched waist helps define the body shape and lends a slimming effect. Style Tip: Glam up this jumpsuit with bling teardrop earrings, lace-up boots, and rectangular tortoiseshell shades. Where-to-wear: Prep your look for weekend brunch. Attributes: Closure - Button, Neck - Shirt Collar, Number of Pockets - 2, Sleeve Length - Short Sleeves, Type - Basic Jumpsuit Wash Care: Machine Wash\n",
      "\n"
     ]
    },
    {
     "data": {
      "text/html": [
       "<img src=\"http://assets.myntassets.com/assets/images/15287420/2021/12/4/2bff3b95-3382-45b8-a0ba-a219256993491638592791188-Mast--Harbour-Women-Jumpsuit-3481638592790700-1.jpg\" width=\"275px\" />"
      ],
      "text/plain": [
       "<IPython.core.display.HTML object>"
      ]
     },
     "metadata": {},
     "output_type": "display_data"
    },
    {
     "name": "stdout",
     "output_type": "stream",
     "text": [
      "\n",
      "\n",
      "Similar product:\n",
      "Name: Tokyo Talkies Women Navy Blue Solid Basic Jumpsuit Products: Jumpsuit Price: INR 2299.0 Color: Navy Blue Rating: 4.31 Description: Navy Blue solid basic jumpsuit with a mandarin collar and three-quarter sleeves. Cotton material, machine washable. Attributes: Closure - Button, Neck - Mandarin Collar, Sleeve Length - Three-Quarter Sleeves, Type - Basic Jumpsuit Wash Care: Machine Wash\n",
      "\n"
     ]
    },
    {
     "data": {
      "text/html": [
       "<img src=\"http://assets.myntassets.com/assets/images/productimage/2019/11/5/52571d3d-7eac-48f4-bb25-1dc40651c5ea1572944340537-1.jpg\" width=\"275px\" />"
      ],
      "text/plain": [
       "<IPython.core.display.HTML object>"
      ]
     },
     "metadata": {},
     "output_type": "display_data"
    },
    {
     "name": "stdout",
     "output_type": "stream",
     "text": [
      "\n",
      "\n"
     ]
    }
   ],
   "source": [
    "process_user_query(\"Suggest me Jumpsuit in Navy Blue Color with rating aboue 4\")"
   ]
  },
  {
   "cell_type": "markdown",
   "metadata": {},
   "source": [
    "<span style=\"color: navy;\">\n",
    "\n",
    "### Test result Observation    \n",
    "    \n",
    "-  RAG with LammaIndex recommended right product\n",
    "-  Generative search has expressed same info in natural langauge format\n",
    "   "
   ]
  },
  {
   "cell_type": "markdown",
   "metadata": {},
   "source": [
    "<span style=\"color: navy;\">\n",
    "\n",
    "### Final Observation and notes  \n",
    "    \n",
    "-  The program is working as expected and able to cater to user queries. \n",
    "-  The images are extracted directly from HTTP server and matched as per user query. \n",
    "   "
   ]
  },
  {
   "cell_type": "markdown",
   "metadata": {
    "execution": {
     "iopub.execute_input": "2024-06-25T09:20:47.860123Z",
     "iopub.status.busy": "2024-06-25T09:20:47.859780Z",
     "iopub.status.idle": "2024-06-25T09:20:47.867052Z",
     "shell.execute_reply": "2024-06-25T09:20:47.865529Z",
     "shell.execute_reply.started": "2024-06-25T09:20:47.860094Z"
    }
   },
   "source": [
    "<span style=\"color: navy;\">\n",
    "\n",
    "# Exploration Zone\n",
    "    \n",
    "- Try out / explore \n",
    "    \n"
   ]
  },
  {
   "cell_type": "code",
   "execution_count": null,
   "metadata": {},
   "outputs": [],
   "source": [
    "process_user_query(\"Pink top above 2500 INR\")"
   ]
  },
  {
   "cell_type": "code",
   "execution_count": null,
   "metadata": {},
   "outputs": [],
   "source": [
    "process_user_query(\"Floral Top with 4 star rating\")"
   ]
  },
  {
   "cell_type": "code",
   "execution_count": null,
   "metadata": {},
   "outputs": [],
   "source": []
  }
 ],
 "metadata": {
  "kaggle": {
   "accelerator": "none",
   "dataSources": [
    {
     "datasetId": 3726549,
     "sourceId": 6454164,
     "sourceType": "datasetVersion"
    },
    {
     "datasetId": 5268081,
     "sourceId": 8767077,
     "sourceType": "datasetVersion"
    },
    {
     "datasetId": 5277148,
     "sourceId": 8779679,
     "sourceType": "datasetVersion"
    },
    {
     "datasetId": 5277283,
     "sourceId": 8779844,
     "sourceType": "datasetVersion"
    }
   ],
   "dockerImageVersionId": 30732,
   "isGpuEnabled": false,
   "isInternetEnabled": true,
   "language": "python",
   "sourceType": "notebook"
  },
  "kernelspec": {
   "display_name": "Python 3 (ipykernel)",
   "language": "python",
   "name": "python3"
  },
  "language_info": {
   "codemirror_mode": {
    "name": "ipython",
    "version": 3
   },
   "file_extension": ".py",
   "mimetype": "text/x-python",
   "name": "python",
   "nbconvert_exporter": "python",
   "pygments_lexer": "ipython3",
   "version": "3.11.7"
  }
 },
 "nbformat": 4,
 "nbformat_minor": 4
}
